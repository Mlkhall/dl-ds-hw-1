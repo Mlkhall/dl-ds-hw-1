{
 "cells": [
  {
   "cell_type": "code",
   "id": "initial_id",
   "metadata": {
    "collapsed": true,
    "ExecuteTime": {
     "end_time": "2024-05-11T00:18:12.459030Z",
     "start_time": "2024-05-11T00:18:12.425963Z"
    }
   },
   "source": [
    "import pandas as pd\n",
    "import numpy as np\n",
    "import keras\n",
    "from keras import layers\n",
    "from keras import callbacks\n",
    "from loguru import logger\n",
    "from sklearn.model_selection import train_test_split"
   ],
   "outputs": [],
   "execution_count": 50
  },
  {
   "metadata": {
    "ExecuteTime": {
     "end_time": "2024-05-11T00:09:16.463776Z",
     "start_time": "2024-05-11T00:09:14.723012Z"
    }
   },
   "cell_type": "code",
   "source": [
    "TEST_SAMPLE_FILE_PATH, TRAIN_SAMPLE_FILE_PATH = 'data/fashion-mnist_test.csv', 'data/fashion-mnist_train.csv'\n",
    "\n",
    "test_sample_df = pd.read_csv(TEST_SAMPLE_FILE_PATH)\n",
    "train_sample_df = pd.read_csv(TRAIN_SAMPLE_FILE_PATH)\n"
   ],
   "id": "39c22959768d26a",
   "outputs": [],
   "execution_count": 43
  },
  {
   "metadata": {},
   "cell_type": "markdown",
   "source": [
    "# Подготовка данных\n",
    "\n",
    "Разделим данные обучения и тестирования на массивы признаков и массивы меток. Признаки будем нормализовать, разделив на 255. Для обучения модели разделим данные обучения на обучающую и валидационную выборки в соотношении 80/20."
   ],
   "id": "71d6d0a3561cdc3d"
  },
  {
   "metadata": {
    "ExecuteTime": {
     "end_time": "2024-05-11T00:14:36.454650Z",
     "start_time": "2024-05-11T00:14:36.344007Z"
    }
   },
   "cell_type": "code",
   "source": [
    "\n",
    "train_data = np.array(train_sample_df, dtype='float32')\n",
    "test_data = np.array(test_sample_df, dtype='float32')\n",
    "\n",
    "x_train = train_data[:, 1:] / 255\n",
    "y_train = train_data[:, 0]\n",
    "\n",
    "x_test = test_data[:, 1:] / 255\n",
    "y_test = test_data[:, 0]"
   ],
   "id": "f7decbc622f61fe6",
   "outputs": [],
   "execution_count": 46
  },
  {
   "metadata": {
    "ExecuteTime": {
     "end_time": "2024-05-11T00:15:35.206155Z",
     "start_time": "2024-05-11T00:15:34.986763Z"
    }
   },
   "cell_type": "code",
   "source": "x_train, x_validate, y_train, y_validate = train_test_split(x_train, y_train, test_size=0.2, random_state=228)",
   "id": "1f9385ee9bdd3b2a",
   "outputs": [],
   "execution_count": 48
  },
  {
   "metadata": {},
   "cell_type": "markdown",
   "source": [
    "# Настройки модели и запуск\n",
    "\n",
    "Для создания модели будем использовать следующие настройки:\n",
    "- `ImgSettings` - настройки изображения\n",
    "- `LayersSettings` - настройки слоев\n",
    "- `ModelSettings` - настройки модели\n",
    "\n",
    "Создадим модель, скомпилируем ее и обучим на обучающей выборке. После обучения оценим точность модели на тестовой выборке. Если точность больше 0.8, то сохраним результаты в файл `data/result_submission.csv`.\n",
    "\n",
    "В качестве модели возьмем CNN с одним сверточным слоем, одним слоем пулинга, слоем дропаута, слоем выравнивания, двумя полносвязными слоями и выходным слоем."
   ],
   "id": "f7070eb6f24707b9"
  },
  {
   "metadata": {
    "ExecuteTime": {
     "end_time": "2024-05-11T14:10:11.223739Z",
     "start_time": "2024-05-11T14:09:11.002094Z"
    }
   },
   "cell_type": "code",
   "source": [
    "class ImgSettings:\n",
    "    img_rows = 28\n",
    "    img_cols = 28\n",
    "    \n",
    "    @classmethod\n",
    "    def get_img_shape(cls) -> tuple[int, int, int]:\n",
    "        return cls.img_rows, cls.img_cols, 1\n",
    "    \n",
    "    @classmethod\n",
    "    def reshape(cls, x: np.ndarray) -> np.ndarray:\n",
    "        return x.reshape(x.shape[0], *cls.get_img_shape())\n",
    "\n",
    "\n",
    "class LayersSettings:\n",
    "    filters = 32\n",
    "    kernel_size = 3\n",
    "    activation = 'relu'\n",
    "    pool_size = 2\n",
    "    dropout = 0.2\n",
    "    dense = 32\n",
    "    dense_activation = 'relu'\n",
    "    output = 10\n",
    "    output_activation = 'softmax'\n",
    "\n",
    "\n",
    "class ModelSettings:\n",
    "    number_epochs = 17\n",
    "    verbose = 1\n",
    "    batch_size = 512\n",
    "    loss = 'sparse_categorical_crossentropy'\n",
    "    metrics = ['accuracy']\n",
    "    \n",
    "    write_graph = True\n",
    "    histogram_freq = 1\n",
    "    write_images = True\n",
    "\n",
    "\n",
    "x_train = ImgSettings.reshape(x_train)\n",
    "x_test = ImgSettings.reshape(x_test)\n",
    "x_validate = ImgSettings.reshape(x_validate)\n",
    "\n",
    "logger.info(f\"Размер обучающей выборки: {x_train.shape}\")\n",
    "logger.info(f\"Размер тестовой выборки: {x_test.shape}\")\n",
    "logger.info(f\"Размер валидационной выборки: {x_validate.shape}\")\n",
    "\n",
    "\n",
    "model_layers = (\n",
    "    layers.Input(shape=ImgSettings.get_img_shape()),\n",
    "    layers.Conv2D(\n",
    "        filters=LayersSettings.filters,\n",
    "        kernel_size=LayersSettings.kernel_size, \n",
    "        activation=LayersSettings.activation,\n",
    "    ),\n",
    "    layers.MaxPooling2D(pool_size=LayersSettings.pool_size),\n",
    "    layers.Dropout(LayersSettings.dropout),\n",
    "    layers.Flatten(),\n",
    "    layers.Dense(LayersSettings.dense, activation=LayersSettings.dense_activation),\n",
    "    layers.Dense(LayersSettings.output, activation=LayersSettings.output_activation)\n",
    ")\n",
    "\n",
    "model = keras.Sequential(model_layers)\n",
    "logger.info(f\"Модель создана {model}\")\n",
    "\n",
    "tensorboard = callbacks.TensorBoard(\n",
    "    write_graph=ModelSettings.write_graph,\n",
    "    histogram_freq=ModelSettings.histogram_freq,\n",
    "    write_images=ModelSettings.write_images,\n",
    ")\n",
    "logger.info(f\"Tensorboard создан {tensorboard}\")\n",
    "\n",
    "model.compile(\n",
    "    loss=ModelSettings.loss,\n",
    "    metrics=ModelSettings.metrics,\n",
    ")\n",
    "logger.info(f\"Модель скомпилирована {model}\")\n",
    "\n",
    "model.fit(\n",
    "    x_train, \n",
    "    y_train, \n",
    "    batch_size=ModelSettings.batch_size,\n",
    "    epochs=ModelSettings.number_epochs, \n",
    "    verbose=ModelSettings.verbose,\n",
    "    validation_data=(x_validate, y_validate),\n",
    "    callbacks=[tensorboard]\n",
    ")\n",
    "\n",
    "_, accuracy, *_ = model.evaluate(x_test, y_test, verbose=ModelSettings.verbose)\n",
    "\n",
    "if accuracy > 0.8:\n",
    "    logger.success(f\"Точность модели: {accuracy}\")\n",
    "    \n",
    "    y_response = model(x_test)\n",
    "    \n",
    "    logger.info(\"Начинаем сохранять результаты в файл\")\n",
    "    result = pd.DataFrame(np.argmax(y_response, axis=1), columns=[\"Category\"])\n",
    "    result[\"Id\"] = result.index\n",
    "\n",
    "    result.to_csv(\"data/result_submission.csv\", index=False)\n",
    "    logger.success(\"Результаты сохранены в файл\")\n",
    "else:\n",
    "    logger.warning(f\"Точность модели: {accuracy}. Нужно исправить модель 🥹\")\n"
   ],
   "id": "fc50ea50951e3706",
   "outputs": [
    {
     "name": "stderr",
     "output_type": "stream",
     "text": [
      "\u001B[32m2024-05-11 17:09:11.022\u001B[0m | \u001B[1mINFO    \u001B[0m | \u001B[36m__main__\u001B[0m:\u001B[36m<module>\u001B[0m:\u001B[36m42\u001B[0m - \u001B[1mРазмер обучающей выборки: (48000, 28, 28, 1)\u001B[0m\n",
      "\u001B[32m2024-05-11 17:09:11.027\u001B[0m | \u001B[1mINFO    \u001B[0m | \u001B[36m__main__\u001B[0m:\u001B[36m<module>\u001B[0m:\u001B[36m43\u001B[0m - \u001B[1mРазмер тестовой выборки: (10000, 28, 28, 1)\u001B[0m\n",
      "\u001B[32m2024-05-11 17:09:11.028\u001B[0m | \u001B[1mINFO    \u001B[0m | \u001B[36m__main__\u001B[0m:\u001B[36m<module>\u001B[0m:\u001B[36m44\u001B[0m - \u001B[1mРазмер валидационной выборки: (12000, 28, 28, 1)\u001B[0m\n",
      "\u001B[32m2024-05-11 17:09:11.070\u001B[0m | \u001B[1mINFO    \u001B[0m | \u001B[36m__main__\u001B[0m:\u001B[36m<module>\u001B[0m:\u001B[36m62\u001B[0m - \u001B[1mМодель создана <Sequential name=sequential_8, built=True>\u001B[0m\n",
      "\u001B[32m2024-05-11 17:09:11.072\u001B[0m | \u001B[1mINFO    \u001B[0m | \u001B[36m__main__\u001B[0m:\u001B[36m<module>\u001B[0m:\u001B[36m69\u001B[0m - \u001B[1mTensorboard создан <keras.src.callbacks.tensorboard.TensorBoard object at 0x3b831b450>\u001B[0m\n",
      "\u001B[32m2024-05-11 17:09:11.077\u001B[0m | \u001B[1mINFO    \u001B[0m | \u001B[36m__main__\u001B[0m:\u001B[36m<module>\u001B[0m:\u001B[36m75\u001B[0m - \u001B[1mМодель скомпилирована <Sequential name=sequential_8, built=True>\u001B[0m\n"
     ]
    },
    {
     "name": "stdout",
     "output_type": "stream",
     "text": [
      "Epoch 1/17\n",
      "\u001B[1m94/94\u001B[0m \u001B[32m━━━━━━━━━━━━━━━━━━━━\u001B[0m\u001B[37m\u001B[0m \u001B[1m6s\u001B[0m 58ms/step - accuracy: 0.5765 - loss: 1.2389 - val_accuracy: 0.8082 - val_loss: 0.5447\n",
      "Epoch 2/17\n",
      "\u001B[1m94/94\u001B[0m \u001B[32m━━━━━━━━━━━━━━━━━━━━\u001B[0m\u001B[37m\u001B[0m \u001B[1m6s\u001B[0m 63ms/step - accuracy: 0.7979 - loss: 0.5525 - val_accuracy: 0.8428 - val_loss: 0.4537\n",
      "Epoch 3/17\n",
      "\u001B[1m94/94\u001B[0m \u001B[32m━━━━━━━━━━━━━━━━━━━━\u001B[0m\u001B[37m\u001B[0m \u001B[1m3s\u001B[0m 35ms/step - accuracy: 0.8357 - loss: 0.4573 - val_accuracy: 0.8438 - val_loss: 0.4358\n",
      "Epoch 4/17\n",
      "\u001B[1m94/94\u001B[0m \u001B[32m━━━━━━━━━━━━━━━━━━━━\u001B[0m\u001B[37m\u001B[0m \u001B[1m3s\u001B[0m 32ms/step - accuracy: 0.8557 - loss: 0.4063 - val_accuracy: 0.8478 - val_loss: 0.4166\n",
      "Epoch 5/17\n",
      "\u001B[1m94/94\u001B[0m \u001B[32m━━━━━━━━━━━━━━━━━━━━\u001B[0m\u001B[37m\u001B[0m \u001B[1m4s\u001B[0m 37ms/step - accuracy: 0.8679 - loss: 0.3695 - val_accuracy: 0.8657 - val_loss: 0.3721\n",
      "Epoch 6/17\n",
      "\u001B[1m94/94\u001B[0m \u001B[32m━━━━━━━━━━━━━━━━━━━━\u001B[0m\u001B[37m\u001B[0m \u001B[1m3s\u001B[0m 37ms/step - accuracy: 0.8769 - loss: 0.3452 - val_accuracy: 0.8793 - val_loss: 0.3375\n",
      "Epoch 7/17\n",
      "\u001B[1m94/94\u001B[0m \u001B[32m━━━━━━━━━━━━━━━━━━━━\u001B[0m\u001B[37m\u001B[0m \u001B[1m3s\u001B[0m 32ms/step - accuracy: 0.8869 - loss: 0.3256 - val_accuracy: 0.8824 - val_loss: 0.3276\n",
      "Epoch 8/17\n",
      "\u001B[1m94/94\u001B[0m \u001B[32m━━━━━━━━━━━━━━━━━━━━\u001B[0m\u001B[37m\u001B[0m \u001B[1m3s\u001B[0m 37ms/step - accuracy: 0.8907 - loss: 0.3111 - val_accuracy: 0.8820 - val_loss: 0.3221\n",
      "Epoch 9/17\n",
      "\u001B[1m94/94\u001B[0m \u001B[32m━━━━━━━━━━━━━━━━━━━━\u001B[0m\u001B[37m\u001B[0m \u001B[1m4s\u001B[0m 40ms/step - accuracy: 0.8922 - loss: 0.3016 - val_accuracy: 0.8907 - val_loss: 0.3055\n",
      "Epoch 10/17\n",
      "\u001B[1m94/94\u001B[0m \u001B[32m━━━━━━━━━━━━━━━━━━━━\u001B[0m\u001B[37m\u001B[0m \u001B[1m3s\u001B[0m 33ms/step - accuracy: 0.8992 - loss: 0.2836 - val_accuracy: 0.8900 - val_loss: 0.3020\n",
      "Epoch 11/17\n",
      "\u001B[1m94/94\u001B[0m \u001B[32m━━━━━━━━━━━━━━━━━━━━\u001B[0m\u001B[37m\u001B[0m \u001B[1m3s\u001B[0m 30ms/step - accuracy: 0.9018 - loss: 0.2731 - val_accuracy: 0.8908 - val_loss: 0.3046\n",
      "Epoch 12/17\n",
      "\u001B[1m94/94\u001B[0m \u001B[32m━━━━━━━━━━━━━━━━━━━━\u001B[0m\u001B[37m\u001B[0m \u001B[1m3s\u001B[0m 28ms/step - accuracy: 0.9052 - loss: 0.2689 - val_accuracy: 0.8732 - val_loss: 0.3343\n",
      "Epoch 13/17\n",
      "\u001B[1m94/94\u001B[0m \u001B[32m━━━━━━━━━━━━━━━━━━━━\u001B[0m\u001B[37m\u001B[0m \u001B[1m2s\u001B[0m 26ms/step - accuracy: 0.9043 - loss: 0.2650 - val_accuracy: 0.8926 - val_loss: 0.2988\n",
      "Epoch 14/17\n",
      "\u001B[1m94/94\u001B[0m \u001B[32m━━━━━━━━━━━━━━━━━━━━\u001B[0m\u001B[37m\u001B[0m \u001B[1m3s\u001B[0m 29ms/step - accuracy: 0.9100 - loss: 0.2533 - val_accuracy: 0.8975 - val_loss: 0.2812\n",
      "Epoch 15/17\n",
      "\u001B[1m94/94\u001B[0m \u001B[32m━━━━━━━━━━━━━━━━━━━━\u001B[0m\u001B[37m\u001B[0m \u001B[1m3s\u001B[0m 32ms/step - accuracy: 0.9111 - loss: 0.2482 - val_accuracy: 0.9002 - val_loss: 0.2741\n",
      "Epoch 16/17\n",
      "\u001B[1m94/94\u001B[0m \u001B[32m━━━━━━━━━━━━━━━━━━━━\u001B[0m\u001B[37m\u001B[0m \u001B[1m3s\u001B[0m 31ms/step - accuracy: 0.9145 - loss: 0.2373 - val_accuracy: 0.8982 - val_loss: 0.2828\n",
      "Epoch 17/17\n",
      "\u001B[1m94/94\u001B[0m \u001B[32m━━━━━━━━━━━━━━━━━━━━\u001B[0m\u001B[37m\u001B[0m \u001B[1m3s\u001B[0m 31ms/step - accuracy: 0.9160 - loss: 0.2332 - val_accuracy: 0.8998 - val_loss: 0.2710\n",
      "\u001B[1m313/313\u001B[0m \u001B[32m━━━━━━━━━━━━━━━━━━━━\u001B[0m\u001B[37m\u001B[0m \u001B[1m1s\u001B[0m 3ms/step - accuracy: 0.9019 - loss: 0.2604\n"
     ]
    },
    {
     "name": "stderr",
     "output_type": "stream",
     "text": [
      "\u001B[32m2024-05-11 17:10:10.278\u001B[0m | \u001B[32m\u001B[1mSUCCESS \u001B[0m | \u001B[36m__main__\u001B[0m:\u001B[36m<module>\u001B[0m:\u001B[36m90\u001B[0m - \u001B[32m\u001B[1mТочность модели: 0.9064000248908997\u001B[0m\n",
      "\u001B[32m2024-05-11 17:10:11.204\u001B[0m | \u001B[1mINFO    \u001B[0m | \u001B[36m__main__\u001B[0m:\u001B[36m<module>\u001B[0m:\u001B[36m94\u001B[0m - \u001B[1mНачинаем сохранять результаты в файл\u001B[0m\n",
      "\u001B[32m2024-05-11 17:10:11.220\u001B[0m | \u001B[32m\u001B[1mSUCCESS \u001B[0m | \u001B[36m__main__\u001B[0m:\u001B[36m<module>\u001B[0m:\u001B[36m99\u001B[0m - \u001B[32m\u001B[1mРезультаты сохранены в файл\u001B[0m\n"
     ]
    }
   ],
   "execution_count": 73
  }
 ],
 "metadata": {
  "kernelspec": {
   "display_name": "Python 3",
   "language": "python",
   "name": "python3"
  },
  "language_info": {
   "codemirror_mode": {
    "name": "ipython",
    "version": 2
   },
   "file_extension": ".py",
   "mimetype": "text/x-python",
   "name": "python",
   "nbconvert_exporter": "python",
   "pygments_lexer": "ipython2",
   "version": "2.7.6"
  }
 },
 "nbformat": 4,
 "nbformat_minor": 5
}
